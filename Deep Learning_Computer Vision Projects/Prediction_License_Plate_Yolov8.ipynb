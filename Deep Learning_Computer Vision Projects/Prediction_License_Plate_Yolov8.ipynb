{
  "cells": [
    {
      "cell_type": "markdown",
      "metadata": {
        "id": "GD35k3at85tS"
      },
      "source": [
        "# YOLOv8 Licence Plate Character Train and Predict"
      ]
    },
    {
      "cell_type": "code",
      "execution_count": null,
      "metadata": {
        "id": "MyQg9FdU9dw7"
      },
      "outputs": [],
      "source": [
        "from google.colab import drive\n",
        "drive.mount('/content/drive')"
      ]
    },
    {
      "cell_type": "code",
      "execution_count": null,
      "metadata": {
        "id": "EMR-cPZz85tT"
      },
      "outputs": [],
      "source": [
        "!rm -rf"
      ]
    },
    {
      "cell_type": "code",
      "execution_count": null,
      "metadata": {
        "id": "ikO2h15V85tU"
      },
      "outputs": [],
      "source": [
        "%pip install ultralytics"
      ]
    },
    {
      "cell_type": "code",
      "execution_count": null,
      "metadata": {
        "id": "VUFCrbcb85tU"
      },
      "outputs": [],
      "source": [
        "import os\n",
        "import cv2\n",
        "import numpy as np\n",
        "import pandas as pd\n",
        "from tqdm import tqdm\n",
        "from shutil import copyfile\n",
        "import matplotlib.pyplot as plt\n",
        "from PIL import Image\n",
        "import ultralytics\n",
        "from ultralytics import YOLO\n",
        "ultralytics.checks()"
      ]
    },
    {
      "cell_type": "markdown",
      "metadata": {
        "id": "FiQmM6TL85tU"
      },
      "source": [
        "# Check Annotation Data"
      ]
    },
    {
      "cell_type": "code",
      "execution_count": null,
      "metadata": {
        "id": "9ercH8h985tV"
      },
      "outputs": [],
      "source": [
        "base_path = '/content/drive/My Drive/mining research/Faster_RCNN_Model/datasets'\n",
        "ipaths = []\n",
        "tpaths = []\n",
        "for dirname, _, filenames in os.walk(base_path):\n",
        "    for filename in filenames:\n",
        "        if filename.endswith('jpeg'):\n",
        "            ipaths.append(os.path.join(dirname, filename))\n",
        "        elif filename.endswith('.txt'):\n",
        "            tpaths.append(os.path.join(dirname, filename))\n",
        "ipaths = sorted(ipaths)\n",
        "tpaths = sorted(tpaths)\n",
        "print(ipaths[0])\n",
        "print(len(ipaths))"
      ]
    },
    {
      "cell_type": "code",
      "execution_count": null,
      "metadata": {
        "id": "-LgdChul85tV"
      },
      "outputs": [],
      "source": [
        "boxdata=[]\n",
        "boxfile=[]\n",
        "for i in range(len(tpaths)):\n",
        "    file=tpaths[i]\n",
        "    boxdata+=[np.loadtxt(file)]\n",
        "    boxfile+=[file[0:-4].split('/')[-1]]\n",
        "print(boxdata[0])"
      ]
    },
    {
      "cell_type": "code",
      "execution_count": null,
      "metadata": {
        "id": "mkWp8atx85tV"
      },
      "outputs": [],
      "source": [
        "BOX=pd.DataFrame()\n",
        "\n",
        "for i in range(len(boxdata)):\n",
        "    if type(boxdata[i][0])==np.float64:\n",
        "        add=pd.DataFrame([boxdata[i]])\n",
        "        add[5]=boxfile[i]\n",
        "        BOX=pd.concat([BOX,add])\n",
        "    else:\n",
        "        add=pd.DataFrame(boxdata[i])\n",
        "        add[5]=boxfile[i]\n",
        "        BOX=pd.concat([BOX,add])\n",
        "\n",
        "BOX2=BOX.reset_index(drop=True)\n",
        "display(BOX2)\n",
        "print(BOX2.iloc[:,0].max())"
      ]
    },
    {
      "cell_type": "code",
      "execution_count": null,
      "metadata": {
        "id": "3OOvokvm85tV"
      },
      "outputs": [],
      "source": [
        "N=list(range(27))\n",
        "Name=[]\n",
        "for i in range(27):\n",
        "    Name+=[str(i).zfill(2)]\n",
        "class_map=dict(zip(N,Name))"
      ]
    },
    {
      "cell_type": "code",
      "execution_count": null,
      "metadata": {
        "id": "ZOpbuuzK85tV"
      },
      "outputs": [],
      "source": [
        "for i in range(len(BOX2)):\n",
        "    BOX2.iloc[i,0]=class_map[int(BOX2.iloc[i,0])]\n",
        "display(BOX2)\n",
        "display(BOX2.iloc[:,0].value_counts())"
      ]
    },
    {
      "cell_type": "code",
      "execution_count": null,
      "metadata": {
        "id": "LXOt1zn-85tV"
      },
      "outputs": [],
      "source": [
        "def draw_box(n0):\n",
        "\n",
        "    ipath=ipaths[n0]\n",
        "    image=cv2.imread(ipath)\n",
        "    H,W=image.shape[0],image.shape[1]\n",
        "    file=ipath[0:-4].split('/')[-1]\n",
        "\n",
        "    if BOX2[BOX2[5]==file] is not None:\n",
        "        box=BOX2[BOX2[5]==file]\n",
        "        box=box.reset_index(drop=True)\n",
        "\n",
        "        for i in range(len(box)):\n",
        "            label=box.iloc[i,0]\n",
        "            x=box.iloc[i,1]\n",
        "            y=box.iloc[i,2]\n",
        "            w=box.iloc[i,3]\n",
        "            h=box.iloc[i,4]\n",
        "            x0=((x-w/2)*W).astype(int)\n",
        "            y0=((y-h/2)*H).astype(int)\n",
        "            x1=((x+w/2)*W).astype(int)\n",
        "            y1=((y+h/2)*H).astype(int)\n",
        "            cv2.rectangle(image,(x0,y0),(x1,y1),(0,255,0),1) #green\n",
        "\n",
        "    #plt.imshow(image)\n",
        "    #plt.show()\n",
        "\n",
        "    return image"
      ]
    },
    {
      "cell_type": "code",
      "execution_count": null,
      "metadata": {
        "id": "nVPVJakK85tW"
      },
      "outputs": [],
      "source": [
        "images1=[]\n",
        "for i in tqdm(range(len(ipaths))):#\n",
        "    images1+=[draw_box(i)]"
      ]
    },
    {
      "cell_type": "code",
      "execution_count": null,
      "metadata": {
        "id": "PIyP5Mo485tW"
      },
      "outputs": [],
      "source": [
        "# from matplotlib import animation, rc\n",
        "# rc('animation', html='jshtml')"
      ]
    },
    {
      "cell_type": "code",
      "execution_count": null,
      "metadata": {
        "id": "bEGjy1Uv85tW"
      },
      "outputs": [],
      "source": [
        "# def create_animation(ims):\n",
        "#     fig=plt.figure(figsize=(10,6))\n",
        "#     #plt.axis('off')\n",
        "#     im=plt.imshow(cv2.cvtColor(ims[0],cv2.COLOR_BGR2RGB))\n",
        "#     plt.close()\n",
        "#     def animate_func(i):\n",
        "#         im.set_array(cv2.cvtColor(ims[i],cv2.COLOR_BGR2RGB))\n",
        "#         return [im]\n",
        "#     return animation.FuncAnimation(fig, animate_func, frames=len(ims), interval=1000//4)"
      ]
    },
    {
      "cell_type": "code",
      "execution_count": null,
      "metadata": {
        "id": "iSvgSoM685tW"
      },
      "outputs": [],
      "source": [
        "# create_animation(images1)"
      ]
    },
    {
      "cell_type": "markdown",
      "metadata": {
        "id": "b_5UIWrt85tW"
      },
      "source": [
        "# Split Train, Valid and Test"
      ]
    },
    {
      "cell_type": "code",
      "execution_count": null,
      "metadata": {
        "id": "X3THJs-Z85tW"
      },
      "outputs": [],
      "source": [
        "os.makedirs('datasets', exist_ok=True)\n",
        "os.makedirs('datasets/train', exist_ok=True)\n",
        "os.makedirs('datasets/valid', exist_ok=True)\n",
        "os.makedirs('datasets/test', exist_ok=True)"
      ]
    },
    {
      "cell_type": "code",
      "execution_count": null,
      "metadata": {
        "id": "Lkvkmjoj85tW"
      },
      "outputs": [],
      "source": [
        "for i in range(len(ipaths)):\n",
        "    ipath=ipaths[i]\n",
        "    ifile=ipath.split('/')[-1]\n",
        "    tpath=tpaths[i]\n",
        "    tfile=tpath.split('/')[-1]\n",
        "    if i%4==1:\n",
        "        copyfile(ipath, f'datasets/valid/{ifile}')\n",
        "        copyfile(tpath, f'datasets/valid/{tfile}')\n",
        "    elif i%4==2:\n",
        "        copyfile(ipath, f'datasets/test/{ifile}')\n",
        "        #copyfile(tpath, f'datasets/test/{tfile}')\n",
        "    else:\n",
        "        copyfile(ipath, f'datasets/train/{ifile}')\n",
        "        copyfile(tpath, f'datasets/train/{tfile}')"
      ]
    },
    {
      "cell_type": "markdown",
      "metadata": {
        "id": "-qzjKApH85tW"
      },
      "source": [
        "# Create yaml file"
      ]
    },
    {
      "cell_type": "code",
      "execution_count": null,
      "metadata": {
        "id": "Up-PgAhV85tW"
      },
      "outputs": [],
      "source": [
        "import yaml\n",
        "\n",
        "plate_yaml = dict(\n",
        "    train ='train',\n",
        "    val ='valid',\n",
        "    test='test',\n",
        "    nc =27,\n",
        "    names = Name\n",
        ")\n",
        "\n",
        "with open('plate.yaml', 'w') as outfile:\n",
        "    yaml.dump(plate_yaml, outfile, default_flow_style=True)\n",
        "\n",
        "%cat plate.yaml"
      ]
    },
    {
      "cell_type": "markdown",
      "metadata": {
        "id": "a0lNKjd185tX"
      },
      "source": [
        "# Train"
      ]
    },
    {
      "cell_type": "code",
      "execution_count": null,
      "metadata": {
        "id": "0xg_ldcj85tX"
      },
      "outputs": [],
      "source": [
        "model = YOLO(\"yolov8x.pt\")"
      ]
    },
    {
      "cell_type": "code",
      "execution_count": null,
      "metadata": {
        "colab": {
          "background_save": true
        },
        "id": "n3Xi4Vy185tX"
      },
      "outputs": [],
      "source": [
        "!yolo task=detect mode=train model=yolov8x.pt data=plate.yaml epochs=40 imgsz=640"
      ]
    },
    {
      "cell_type": "markdown",
      "metadata": {
        "id": "vWmzgDpW85tX"
      },
      "source": [
        "# Result of Training"
      ]
    },
    {
      "cell_type": "code",
      "execution_count": null,
      "metadata": {
        "colab": {
          "background_save": true
        },
        "id": "NBLjC3f285tX"
      },
      "outputs": [],
      "source": [
        "tpaths2=[]\n",
        "for dirname, _, filenames in os.walk('/content/runs/detect/train'):\n",
        "    for filename in filenames:\n",
        "        if filename[-4:]=='.png' or filename[-4:]=='.jpg':\n",
        "            tpaths2+=[(os.path.join(dirname, filename))]\n",
        "tpaths2=sorted(tpaths2)\n",
        "print(tpaths2[0])"
      ]
    },
    {
      "cell_type": "code",
      "execution_count": null,
      "metadata": {
        "colab": {
          "background_save": true
        },
        "id": "Q-9waFOQ85tX"
      },
      "outputs": [],
      "source": [
        "for path in tpaths2:\n",
        "    image = Image.open(path)\n",
        "    image=np.array(image)\n",
        "    plt.figure(figsize=(20,10))\n",
        "    plt.imshow(image)\n",
        "    plt.show()"
      ]
    },
    {
      "cell_type": "markdown",
      "metadata": {
        "id": "ch6i_EM085tX"
      },
      "source": [
        "# Predict"
      ]
    },
    {
      "cell_type": "code",
      "execution_count": null,
      "metadata": {
        "colab": {
          "background_save": true
        },
        "id": "-zNTjMjr85tX"
      },
      "outputs": [],
      "source": [
        "best_path0='/content/runs/detect/train/weights/best.pt'\n",
        "source0='datasets/test'"
      ]
    },
    {
      "cell_type": "code",
      "execution_count": null,
      "metadata": {
        "colab": {
          "background_save": true
        },
        "id": "-pfTs19Z85tY"
      },
      "outputs": [],
      "source": [
        "ppaths=[]\n",
        "for dirname, _, filenames in os.walk(source0):\n",
        "    for filename in filenames:\n",
        "        if filename[-4:]=='jpeg':\n",
        "            ppaths+=[(os.path.join(dirname, filename))]\n",
        "ppaths=sorted(ppaths)\n",
        "print(ppaths)"
      ]
    },
    {
      "cell_type": "code",
      "execution_count": null,
      "metadata": {
        "colab": {
          "background_save": true
        },
        "id": "TPNvHORF85tY"
      },
      "outputs": [],
      "source": [
        "model2 = YOLO(best_path0)"
      ]
    },
    {
      "cell_type": "code",
      "execution_count": null,
      "metadata": {
        "colab": {
          "background_save": true
        },
        "id": "L7pN2DoS85tY"
      },
      "outputs": [],
      "source": [
        "!yolo task=detect mode=predict model={best_path0} conf=0.01 source={source0}"
      ]
    },
    {
      "cell_type": "markdown",
      "metadata": {
        "id": "AtVP0jKU85tY"
      },
      "source": [
        "# Result of Prediction"
      ]
    },
    {
      "cell_type": "code",
      "execution_count": null,
      "metadata": {
        "colab": {
          "background_save": true
        },
        "id": "upDiPvjv85tY"
      },
      "outputs": [],
      "source": [
        "results = model2.predict(source0,conf=0.01)\n",
        "print(len(results))"
      ]
    },
    {
      "cell_type": "code",
      "execution_count": null,
      "metadata": {
        "colab": {
          "background_save": true
        },
        "id": "_09CTUP485tY"
      },
      "outputs": [],
      "source": [
        "print(results[0].boxes.data)"
      ]
    },
    {
      "cell_type": "code",
      "execution_count": null,
      "metadata": {
        "colab": {
          "background_save": true
        },
        "id": "IHbPQq_385tY"
      },
      "outputs": [],
      "source": [
        "PBOX=pd.DataFrame(columns=range(6))\n",
        "for i in range(len(results)):#len(results)\n",
        "    if len(results[i].boxes.data)>0:\n",
        "        arri=pd.DataFrame(results[i].boxes.data.cpu().numpy()).astype(float)\n",
        "        path=ppaths[i]\n",
        "        file=path.split('/')[-1]\n",
        "        arri=arri.assign(file=file)\n",
        "        arri=arri.assign(i=i)\n",
        "        PBOX=pd.concat([PBOX,arri],axis=0)\n",
        "PBOX.columns=['x','y','x2','y2','confidence','class','file','i']\n",
        "display(PBOX)"
      ]
    },
    {
      "cell_type": "code",
      "execution_count": null,
      "metadata": {
        "colab": {
          "background_save": true
        },
        "id": "LoyHkPSX85tY"
      },
      "outputs": [],
      "source": [
        "PBOX['class']=PBOX['class'].apply(lambda x: class_map[int(x)])\n",
        "PBOX=PBOX.reset_index(drop=True)\n",
        "display(PBOX)\n",
        "display(PBOX['class'].value_counts())"
      ]
    },
    {
      "cell_type": "code",
      "execution_count": null,
      "metadata": {
        "colab": {
          "background_save": true
        },
        "id": "tPZ2FwPi85tY"
      },
      "outputs": [],
      "source": [
        "color_codes = [\n",
        "    '#FF0000',  # Red\n",
        "    '#FF4500',  # OrangeRed\n",
        "    '#FF8C00',  # DarkOrange\n",
        "    '#FFA500',  # Orange\n",
        "    '#FFD700',  # Gold\n",
        "    '#FFFF00',  # Yellow\n",
        "    '#ADFF2F',  # GreenYellow\n",
        "    '#7FFF00',  # Chartreuse\n",
        "    '#00FF00',  # Lime\n",
        "    '#00FA9A',  # MediumSpringGreen\n",
        "    '#00FFFF',  # Cyan\n",
        "    '#00BFFF',  # DeepSkyBlue\n",
        "    '#0000FF',  # Blue\n",
        "    '#8A2BE2'   # BlueViolet\n",
        "]\n",
        "colors=[]\n",
        "for c in color_codes:\n",
        "    colors += [tuple((int(c[1:3],16),int(c[3:5],16),int(c[5:7],16)))]"
      ]
    },
    {
      "cell_type": "code",
      "execution_count": null,
      "metadata": {
        "colab": {
          "background_save": true
        },
        "id": "l2Bz1IhR85tZ"
      },
      "outputs": [],
      "source": [
        "def draw_box2(n0):\n",
        "\n",
        "    ipath=ppaths[n0]\n",
        "    image=cv2.imread(ipath)\n",
        "    H,W=image.shape[0],image.shape[1]\n",
        "    file=ipath.split('/')[-1]\n",
        "\n",
        "    if PBOX[PBOX['file']==file] is not None:\n",
        "        box=PBOX[PBOX['file']==file]\n",
        "        box=box.reset_index(drop=True)\n",
        "        #display(box)\n",
        "\n",
        "        for i in range(len(box)):\n",
        "            label=box.iloc[i,5]\n",
        "            x=int(box.iloc[i,0])\n",
        "            y=int(box.iloc[i,1])\n",
        "            x2=int(box.iloc[i,2])\n",
        "            y2=int(box.iloc[i,3])\n",
        "            #print(label,x,y,x2,y2)\n",
        "            ci=colors[int(label)%14]\n",
        "            cv2.rectangle(image,(x,y),(x2,y2),ci,1)\n",
        "\n",
        "    #plt.imshow(image)\n",
        "    #plt.show()\n",
        "\n",
        "    return image"
      ]
    },
    {
      "cell_type": "code",
      "execution_count": null,
      "metadata": {
        "colab": {
          "background_save": true
        },
        "id": "OfEmDH-P85tZ"
      },
      "outputs": [],
      "source": [
        "images2=[]\n",
        "for i in tqdm(range(len(ppaths))):\n",
        "    images2+=[draw_box2(i)]"
      ]
    },
    {
      "cell_type": "code",
      "execution_count": null,
      "metadata": {
        "colab": {
          "background_save": true
        },
        "id": "1rizXJ3z85tc"
      },
      "outputs": [],
      "source": [
        "create_animation(images2)"
      ]
    },
    {
      "cell_type": "code",
      "execution_count": null,
      "metadata": {
        "id": "8XHa9-x285td"
      },
      "outputs": [],
      "source": []
    }
  ],
  "metadata": {
    "accelerator": "GPU",
    "colab": {
      "gpuType": "T4",
      "provenance": []
    },
    "kaggle": {
      "accelerator": "gpu",
      "dataSources": [
        {
          "datasetId": 3648691,
          "sourceId": 6337926,
          "sourceType": "datasetVersion"
        }
      ],
      "dockerImageVersionId": 30527,
      "isGpuEnabled": true,
      "isInternetEnabled": false,
      "language": "python",
      "sourceType": "notebook"
    },
    "kernelspec": {
      "display_name": "Python 3",
      "name": "python3"
    },
    "language_info": {
      "codemirror_mode": {
        "name": "ipython",
        "version": 3
      },
      "file_extension": ".py",
      "mimetype": "text/x-python",
      "name": "python",
      "nbconvert_exporter": "python",
      "pygments_lexer": "ipython3",
      "version": "3.6.4"
    }
  },
  "nbformat": 4,
  "nbformat_minor": 0
}